{
 "cells": [
  {
   "cell_type": "markdown",
   "id": "collective-dinner",
   "metadata": {},
   "source": [
    "## Install pandas & matplotlib"
   ]
  },
  {
   "cell_type": "code",
   "execution_count": 1,
   "id": "active-thinking",
   "metadata": {},
   "outputs": [
    {
     "name": "stdout",
     "output_type": "stream",
     "text": [
      "\u001b[33mWARNING: You are using pip version 20.3.3; however, version 21.2.1 is available.\n",
      "You should consider upgrading via the '/Users/adam/.pyenv/versions/3.8.5/envs/general/bin/python3.8 -m pip install --upgrade pip' command.\u001b[0m\n"
     ]
    }
   ],
   "source": [
    "!pip install pandas matplotlib -q"
   ]
  },
  {
   "cell_type": "markdown",
   "id": "liberal-catholic",
   "metadata": {},
   "source": [
    "# Pandas"
   ]
  },
  {
   "cell_type": "code",
   "execution_count": 2,
   "id": "working-equivalent",
   "metadata": {},
   "outputs": [],
   "source": [
    "import pandas as pd\n",
    "\n",
    "#  read dataset from github url\n",
    "data = pd.read_csv('https://raw.githubusercontent.com/ADGEfficiency/data-science-south-data/main/cities/cities.csv').set_index('city')\n",
    "\n",
    "#  save cities dataset to local machine\n",
    "data.to_csv('cities.csv')\n",
    "\n",
    "#  select the berlin row, all columns\n",
    "data.loc['berlin', :]\n",
    "\n",
    "#  select all rows, second colun\n",
    "data.loc[:, 'population']\n",
    "\n",
    "#  select the first row, all columns\n",
    "data.iloc[0, :]\n",
    "\n",
    "#  select all rows, second column\n",
    "data.iloc[:, 1]\n",
    "\n",
    "#  What is the population of Auckland?  \n",
    "data.loc['auckland', 'population']\n",
    "\n",
    "#  Which hemisphere is our first city in?\n",
    "data.iloc[0].loc['hemisphere']\n",
    "\n",
    "#  select population less than 2\n",
    "mask = data.loc[:, 'population'] < 2.0\n",
    "subset = data.loc[mask, :]\n",
    "\n",
    "#  northern hemisphere countries\n",
    "mask = data.loc[:, 'hemisphere'] == 'north'\n",
    "subset = data.loc[mask, :]\n",
    "\n",
    "#  average population in each hemisphere\n",
    "data.groupby('hemisphere').mean()\n",
    "\n",
    "#  total population in each hemisphere\n",
    "data.loc[:, ['population', 'hemisphere']].groupby('hemisphere').sum()\n",
    "\n",
    "#  save to csv file on local computer\n",
    "data.to_csv('groups.csv')"
   ]
  },
  {
   "cell_type": "markdown",
   "id": "younger-refrigerator",
   "metadata": {},
   "source": [
    "## matplotlib"
   ]
  },
  {
   "cell_type": "code",
   "execution_count": 3,
   "id": "complicated-hostel",
   "metadata": {},
   "outputs": [
    {
     "data": {
      "image/png": "[encoded data removed]",
      "text/plain": [
       "<Figure size 432x288 with 2 Axes>"
      ]
     },
     "metadata": {
      "needs_background": "light"
     },
     "output_type": "display_data"
    }
   ],
   "source": [
    "import matplotlib.pyplot as plt\n",
    "import pandas as pd\n",
    "\n",
    "#  create one figure with two axes\n",
    "fig, axes = plt.subplots(nrows=2)\n",
    "\n",
    "#  run a simple data pipeline\n",
    "data = pd.read_csv('https://raw.githubusercontent.com/ADGEfficiency/data-science-south-data/main/cities/cities.csv').set_index('city')\n",
    "\n",
    "#  access first axes and plot a line\n",
    "data.plot(y='population', ax=axes[0], kind='bar')\n",
    "\n",
    "#  access first axes and plot a scatter plot\n",
    "data.plot('land-area', 'population', ax=axes[1], kind='scatter')\n",
    "\n",
    "#  small trick to get x-axis labels to play nice\n",
    "plt.tight_layout()\n",
    "\n",
    "#  save the figure as a png file\n",
    "fig.savefig('cities.png')"
   ]
  }
 ],
 "metadata": {
  "kernelspec": {
   "display_name": "Python 3",
   "language": "python",
   "name": "python3"
  },
  "language_info": {
   "codemirror_mode": {
    "name": "ipython",
    "version": 3
   },
   "file_extension": ".py",
   "mimetype": "text/x-python",
   "name": "python",
   "nbconvert_exporter": "python",
   "pygments_lexer": "ipython3",
   "version": "3.8.5"
  }
 },
 "nbformat": 4,
 "nbformat_minor": 5
}
